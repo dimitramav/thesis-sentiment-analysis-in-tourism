{
 "cells": [
  {
   "cell_type": "code",
   "execution_count": 1,
   "metadata": {},
   "outputs": [],
   "source": [
    "#--------------------------------------------------------------------------------\n",
    "# These tokens are needed for user authentication.\n",
    "# Credentials can be generates via Forsquare:\n",
    "\n",
    "#--------------------------------------------------------------------------------\n",
    "\n",
    "client_id = \"3R1DHJA1BIUJMTE0TGMAP54JFTKGPMXMJC0YFUCQVOWZK45W\"\n",
    "client_secret = \"4IXEO10NH2TL2HNECZU1ZLMD4GJ3RLMMBMWQQ4W13U4CMHSV\"\n",
    "VERSION = '20180604'\n",
    "\n",
    "\n",
    "venue_categories =\t{ 'entertainment': '4bf58dd8d48988d171941735', 'food': '4bf58dd8d48988d10e941735', 'nightlife': '4bf58dd8d48988d1e5931735', 'museum' : '4bf58dd8d48988d181941735'}"
   ]
  },
  {
   "cell_type": "code",
   "execution_count": 2,
   "metadata": {},
   "outputs": [
    {
     "name": "stdout",
     "output_type": "stream",
     "text": [
      "entertainment\n",
      "food\n",
      "nightlife\n",
      "museum\n"
     ]
    }
   ],
   "source": [
    "from foursquare import *\n",
    "import sys\n",
    "sys.path.append(\".\")\n",
    "import os\n",
    "import re\n",
    "\n",
    "\n",
    "def file_under_dir(directory_name,filename):\n",
    "    directory_name = os.getcwd() + directory_name\n",
    "    filepath = os.path.join(directory_name, filename)\n",
    "    try: \n",
    "        os.makedirs(directory_name,0o777)\n",
    "    except OSError:\n",
    "        if not os.path.isdir(directory_name):\n",
    "            raise\n",
    "    return filepath\n",
    "\n",
    "def search_venues(categoryId):  #return a list with the ids of the venues\n",
    "    venues = client.venues.search(params={'categoryId': categoryId, 'll': '37.9724782,23.729001', 'radius':1000,'limit' : 50}) #arts & entertainment\n",
    "    venues_ids = []\n",
    "    for venue in venues['venues']:\n",
    "        venues_ids.append(venue['id'])\n",
    "    return venues_ids\n",
    "\n",
    "def unique_venues_ids(categoryId, filename): #check if we have already information for this venue\n",
    "    #read old ids from csv file\n",
    "    with open(filename, 'r') as f:\n",
    "        old_ids = f.read().splitlines()\n",
    "\n",
    "    new_ids = search_venues(categoryId)\n",
    "    if not old_ids: #we have not stored any id\n",
    "        difference = new_ids\n",
    "    else:\n",
    "        difference =  list(set(new_ids) - set(old_ids))\n",
    "    with open(filename, 'a') as f:  #add different ids to the file with explored ids\n",
    "        for item in difference:\n",
    "            f.write(\"%s\\n\" % item)\n",
    "    return difference\n",
    "\n",
    "def get_details_of_venue(venues_ids,category_name):\n",
    "    for i in venues_ids:\n",
    "        venue_details  = client.venues(i)\n",
    "        with open(file_under_dir('/foursquare/' + category_name + '/','foursquare_' + i +'.json'), 'a', encoding='utf8') as file:\n",
    "                json.dump(venue_details,file,indent=4,sort_keys=True)\n",
    "    \n",
    "        \n",
    "client = Foursquare(client_id, client_secret, redirect_uri='http://fondu.com/oauth/authorize')\n",
    "\n",
    "\n",
    "for key, value in venue_categories.items():\n",
    "    ids = unique_venues_ids(value,key + '.csv')\n",
    "    get_details_of_venue(ids,key)\n",
    "    \n"
   ]
  }
 ],
 "metadata": {
  "kernelspec": {
   "display_name": "Python 3",
   "language": "python",
   "name": "python3"
  },
  "language_info": {
   "codemirror_mode": {
    "name": "ipython",
    "version": 3
   },
   "file_extension": ".py",
   "mimetype": "text/x-python",
   "name": "python",
   "nbconvert_exporter": "python",
   "pygments_lexer": "ipython3",
   "version": "3.7.4"
  }
 },
 "nbformat": 4,
 "nbformat_minor": 2
}
