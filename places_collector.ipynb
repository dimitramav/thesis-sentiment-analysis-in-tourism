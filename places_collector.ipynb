{
 "cells": [
  {
   "cell_type": "code",
   "execution_count": 1,
   "metadata": {},
   "outputs": [],
   "source": [
    "API_KEY = \"\""
   ]
  },
  {
   "cell_type": "code",
   "execution_count": 2,
   "metadata": {
    "scrolled": true
   },
   "outputs": [
    {
     "name": "stderr",
     "output_type": "stream",
     "text": [
      "/home/dimitra/anaconda3/envs/venv_pip/lib/python3.7/site-packages/googleplaces/__init__.py:878: FutureWarning: The \"id\" feature is deprecated and maystop working any time after June 24, 2015.\n",
      "  FutureWarning)\n"
     ]
    }
   ],
   "source": [
    "from googleplaces import GooglePlaces, types, lang\n",
    "import os\n",
    "import sys\n",
    "import time\n",
    "sys.path.append(\".\")\n",
    "import simplejson as json\n",
    "\n",
    "def file_under_dir(directory_name,filename):\n",
    "    directory_name = os.getcwd() + directory_name\n",
    "    filepath = os.path.join(directory_name, filename)\n",
    "    try: \n",
    "        os.makedirs(directory_name,0o777)\n",
    "    except OSError:\n",
    "        if not os.path.isdir(directory_name):\n",
    "            raise\n",
    "    return filepath\n",
    "\n",
    "\n",
    "google_places = GooglePlaces(API_KEY)\n",
    "\n",
    "def search_place(mykeyword,dirname):\n",
    "    query_result = google_places.nearby_search(\n",
    "        lat_lng ={'lat':37.981618, 'lng':23.748457}, radius =1000, keyword = mykeyword )\n",
    "    for place in query_result.places:  # Returned places from a query are place summaries. \n",
    "        place.get_details()\n",
    "        if not ('reviews' in place.details):  # reviews not found\n",
    "            return\n",
    "        place_json = {\n",
    "                'name': place.name,\n",
    "                'location': place.geo_location,\n",
    "                'id': place.id,\n",
    "                'type': place.types[0],\n",
    "                'rating': place.rating,  \n",
    "                'reviews': place.details['reviews'],\n",
    "\n",
    "        }\n",
    "        directory  = '/places/' + dirname + '/'\n",
    "        \n",
    "        with open(file_under_dir(directory,'places' + place.place_id +'.json'), 'w', encoding='utf8') as file:\n",
    "            json.dump(place_json,file,indent=4,sort_keys=True)\n",
    "\n",
    "\n",
    "\n",
    "#search_place('museum','museum')\n",
    "#search_place('restaurant OR coffee OR cafe', 'food')\n",
    "#search_place('park OR theater OR cinema', 'entertainment')\n",
    "#search_place('bar OR night_club OR nightlife', 'nightlife')\n",
    "search_place('concert hall', 'entertainment')\n",
    "\n",
    "    \n",
    "   \n",
    "#  #add different ids to the file with explored ids\n",
    "#    for place in query_result.places:\n",
    "        #f.write(\"%s\\n\" % place_name)"
   ]
  }
 ],
 "metadata": {
  "kernelspec": {
   "display_name": "Python 3",
   "language": "python",
   "name": "python3"
  },
  "language_info": {
   "codemirror_mode": {
    "name": "ipython",
    "version": 3
   },
   "file_extension": ".py",
   "mimetype": "text/x-python",
   "name": "python",
   "nbconvert_exporter": "python",
   "pygments_lexer": "ipython3",
   "version": "3.7.4"
  }
 },
 "nbformat": 4,
 "nbformat_minor": 2
}
